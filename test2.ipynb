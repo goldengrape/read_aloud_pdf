{
 "cells": [
  {
   "cell_type": "code",
   "execution_count": 2,
   "metadata": {},
   "outputs": [],
   "source": [
    "import fitz\n",
    "\n",
    "pdf_file = \"test_pdf/test2.pdf\"\n",
    "output_file = \"test_pdf/highlighted.pdf\"\n",
    "search_text = \"reduced  by  an  bverage  of  50%–  60%,5,6 slowing growth in myopic eyes to levels expected in age- matched \"\n",
    "\n",
    "# 打开 PDF 文件\n",
    "pdf_doc = fitz.open(pdf_file)\n",
    "\n",
    "# 遍历 PDF 中的所有页面\n",
    "for page_num in range(pdf_doc.page_count):\n",
    "    # 获取当前页面对象\n",
    "    page = pdf_doc[page_num]\n",
    "    \n",
    "    # 在当前页面中查找关键字并添加高亮标注\n",
    "    matches = page.search_for(search_text)\n",
    "    if matches:\n",
    "        highlight = page.add_highlight_annot(matches)\n",
    "        highlight.update()\n",
    "        print(\"Found on page: {}\".format(page_num + 1))\n",
    "\n",
    "# 将修改后的 PDF 保存到文件\n",
    "pdf_doc.save(output_file)\n",
    "pdf_doc.close()"
   ]
  },
  {
   "cell_type": "code",
   "execution_count": null,
   "metadata": {},
   "outputs": [],
   "source": []
  }
 ],
 "metadata": {
  "kernelspec": {
   "display_name": "ChatGPT",
   "language": "python",
   "name": "python3"
  },
  "language_info": {
   "codemirror_mode": {
    "name": "ipython",
    "version": 3
   },
   "file_extension": ".py",
   "mimetype": "text/x-python",
   "name": "python",
   "nbconvert_exporter": "python",
   "pygments_lexer": "ipython3",
   "version": "3.10.8"
  },
  "orig_nbformat": 4
 },
 "nbformat": 4,
 "nbformat_minor": 2
}
