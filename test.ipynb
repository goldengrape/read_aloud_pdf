{
 "cells": [
  {
   "cell_type": "code",
   "execution_count": 1,
   "metadata": {},
   "outputs": [],
   "source": [
    "import fitz\n",
    "import pysubs2\n",
    "from bs4 import BeautifulSoup\n",
    "from sub_PDF_location import get_time_location\n",
    "from PIL import Image\n",
    "import cv2\n",
    "import numpy as np\n",
    "from moviepy.editor import VideoFileClip, AudioFileClip\n",
    "from moviepy.editor import ImageClip, concatenate_videoclips\n"
   ]
  },
  {
   "cell_type": "code",
   "execution_count": 2,
   "metadata": {},
   "outputs": [],
   "source": [
    "def draw_line(pdf_file_path, page_num, top, left, length,height,color=(1,1,0), dpi=300):\n",
    "    pdf_document = fitz.open(pdf_file_path)\n",
    "    page=pdf_document[page_num]\n",
    "    # 绘制从左下，到右下的直线\n",
    "    x0=left\n",
    "    y0=top+height\n",
    "    x1=left+length\n",
    "    y1=top+height\n",
    "\n",
    "    shape=page.new_shape()\n",
    "    shape.draw_line((x0,y0),(x1,y1)) \n",
    "    shape.finish(color=color)\n",
    "    shape.commit()\n",
    "    pix = page.get_pixmap(matrix=fitz.Matrix(dpi/72, dpi/72))\n",
    "    return pix \n",
    "\n",
    "\n",
    "def pixmap_to_cv_image(pixmap):\n",
    "    # 获取图像数据\n",
    "    image_data = np.frombuffer(pixmap.samples, dtype=np.uint8)\n",
    "    \n",
    "    # 将图像数据重新调整为正确的形状\n",
    "    if pixmap.alpha:\n",
    "        shape = (pixmap.height, pixmap.width, 4)\n",
    "    else:\n",
    "        shape = (pixmap.height, pixmap.width, 3)\n",
    "    image_data = image_data.reshape(shape)\n",
    "\n",
    "    # 将图像从RGBA转换为BGR格式\n",
    "    if pixmap.alpha:\n",
    "        image_data = cv2.cvtColor(image_data, cv2.COLOR_RGBA2BGR)\n",
    "    else:\n",
    "        image_data = cv2.cvtColor(image_data, cv2.COLOR_RGB2BGR)\n",
    "\n",
    "    return image_data\n",
    "    "
   ]
  },
  {
   "cell_type": "code",
   "execution_count": 3,
   "metadata": {},
   "outputs": [],
   "source": [
    "if __name__ == '__main__':\n",
    "    pdf_file_path = 'test_pdf/test2.pdf'\n",
    "    vtt_file_path = 'test_pdf/test.srt'\n",
    "    start_page = 1\n",
    "    end_page = 1\n",
    "    time_location = get_time_location(pdf_file_path, vtt_file_path, start_page, end_page,n=0)\n",
    "    images=[]\n",
    "    timestamps=[]\n",
    "    for i, t in enumerate(time_location[:20]):\n",
    "        # print(t)\n",
    "        pix=draw_line(pdf_file_path, start_page+t['page_num'], t['top'], t['left'], t['line_length']/2*0.9,t['line_height'])\n",
    "        # pix.save(f\"test_pdf/test{i:03d}.png\")\n",
    "        cv2_img=pixmap_to_cv_image(pix)\n",
    "        images.append(cv2_img)\n",
    "        timestamps.append((t['start_time']/1000,t['end_time']/1000))\n",
    "    \n"
   ]
  },
  {
   "cell_type": "code",
   "execution_count": 4,
   "metadata": {},
   "outputs": [],
   "source": [
    "import imageio\n",
    "# import imageio_ffmpeg as ffmpeg\n",
    "# import numpy as np\n",
    "import subprocess \n",
    "\n",
    "def create_video_with_audio(images, timestamps, audio_path, output_video, frame_rate):\n",
    "    # 获取图像尺寸\n",
    "    height, width, layers = images[0].shape\n",
    "\n",
    "    # 创建视频编码器\n",
    "    output_params = ['-r', str(frame_rate), '-c:v', 'libx264', '-preset', 'medium', '-profile:v', 'main', '-pix_fmt', 'yuv420p']\n",
    "    writer = imageio.get_writer(output_video, format='FFMPEG', mode='I', fps=frame_rate, codec='libx264', output_params=output_params)\n",
    "\n",
    "    # 将图像添加到视频中\n",
    "    for start_time, end_time in timestamps:\n",
    "        duration = end_time - start_time\n",
    "        total_frames = int(duration * frame_rate)\n",
    "\n",
    "        for img in images:\n",
    "            for _ in range(total_frames):\n",
    "                writer.append_data(img)\n",
    "\n",
    "    # 关闭视频编码器\n",
    "    writer.close()\n",
    "\n",
    "    # 将音频添加到生成的视频中\n",
    "    output_video_with_audio = 'output_video_with_audio.mp4'\n",
    "    command = f'ffmpeg -i {output_video} -i {audio_path} -c:v copy -c:a aac -strict experimental -map 0:v:0 -map 1:a:0 {output_video_with_audio}'\n",
    "    subprocess.call(command, shell=True)"
   ]
  },
  {
   "cell_type": "code",
   "execution_count": 5,
   "metadata": {},
   "outputs": [
    {
     "name": "stderr",
     "output_type": "stream",
     "text": [
      "IMAGEIO FFMPEG_WRITER WARNING: input image is not divisible by macro_block_size=16, resizing from (2481, 3260) to (2496, 3264) to ensure video compatibility with most codecs and players. To prevent resizing, make your input image divisible by the macro_block_size or set the macro_block_size to 1 (risking incompatibility).\n"
     ]
    },
    {
     "ename": "AttributeError",
     "evalue": "module 'imageio_ffmpeg' has no attribute 'input'",
     "output_type": "error",
     "traceback": [
      "\u001b[1;31m---------------------------------------------------------------------------\u001b[0m",
      "\u001b[1;31mAttributeError\u001b[0m                            Traceback (most recent call last)",
      "Cell \u001b[1;32mIn[5], line 6\u001b[0m\n\u001b[0;32m      3\u001b[0m frame_rate \u001b[39m=\u001b[39m \u001b[39m30\u001b[39m \u001b[39m# 视频的帧率\u001b[39;00m\n\u001b[0;32m      4\u001b[0m audio_path \u001b[39m=\u001b[39m \u001b[39m'\u001b[39m\u001b[39mtest_pdf/test.mp3\u001b[39m\u001b[39m'\u001b[39m \u001b[39m# 音频文件路径\u001b[39;00m\n\u001b[1;32m----> 6\u001b[0m create_video_with_audio(images, timestamps, audio_path, output_video, frame_rate)\n\u001b[0;32m      7\u001b[0m \u001b[39mprint\u001b[39m(\u001b[39m\"\u001b[39m\u001b[39mdone\u001b[39m\u001b[39m\"\u001b[39m)\n",
      "Cell \u001b[1;32mIn[4], line 26\u001b[0m, in \u001b[0;36mcreate_video_with_audio\u001b[1;34m(images, timestamps, audio_path, output_video, frame_rate)\u001b[0m\n\u001b[0;32m     23\u001b[0m writer\u001b[39m.\u001b[39mclose()\n\u001b[0;32m     25\u001b[0m \u001b[39m# 将音频添加到生成的视频中\u001b[39;00m\n\u001b[1;32m---> 26\u001b[0m input_video \u001b[39m=\u001b[39m ffmpeg\u001b[39m.\u001b[39;49minput(output_video)\n\u001b[0;32m     27\u001b[0m input_audio \u001b[39m=\u001b[39m ffmpeg\u001b[39m.\u001b[39minput(audio_path)\n\u001b[0;32m     28\u001b[0m ffmpeg\u001b[39m.\u001b[39mconcat(input_video, input_audio, v\u001b[39m=\u001b[39m\u001b[39m1\u001b[39m, a\u001b[39m=\u001b[39m\u001b[39m1\u001b[39m)\u001b[39m.\u001b[39moutput(\u001b[39m'\u001b[39m\u001b[39moutput_video_with_audio.mp4\u001b[39m\u001b[39m'\u001b[39m)\u001b[39m.\u001b[39mrun()\n",
      "\u001b[1;31mAttributeError\u001b[0m: module 'imageio_ffmpeg' has no attribute 'input'"
     ]
    }
   ],
   "source": [
    "output_video = 'output_video_no_audio.mp4' # 输出无音频的视频文件名\n",
    "final_video = 'output_video_with_audio.mp4' # 输出带音频的视频文件名\n",
    "frame_rate = 30 # 视频的帧率\n",
    "audio_path = 'test_pdf/test.mp3' # 音频文件路径\n",
    "\n",
    "create_video_with_audio(images, timestamps, audio_path, output_video, frame_rate)\n",
    "print(\"done\")\n"
   ]
  }
 ],
 "metadata": {
  "kernelspec": {
   "display_name": "ChatGPT",
   "language": "python",
   "name": "python3"
  },
  "language_info": {
   "codemirror_mode": {
    "name": "ipython",
    "version": 3
   },
   "file_extension": ".py",
   "mimetype": "text/x-python",
   "name": "python",
   "nbconvert_exporter": "python",
   "pygments_lexer": "ipython3",
   "version": "3.10.8"
  },
  "orig_nbformat": 4
 },
 "nbformat": 4,
 "nbformat_minor": 2
}
