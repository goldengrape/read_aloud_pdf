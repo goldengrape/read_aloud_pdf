{
 "cells": [
  {
   "cell_type": "code",
   "execution_count": 15,
   "metadata": {},
   "outputs": [],
   "source": [
    "import fitz\n",
    "import pysubs2\n",
    "from bs4 import BeautifulSoup\n",
    "from sub_PDF_location import get_time_location\n",
    "from PIL import Image\n",
    "import cv2\n",
    "import numpy as np\n",
    "from moviepy.editor import VideoFileClip, AudioFileClip\n",
    "from moviepy.editor import ImageClip, concatenate_videoclips\n",
    "import subprocess \n"
   ]
  },
  {
   "cell_type": "code",
   "execution_count": 16,
   "metadata": {},
   "outputs": [],
   "source": [
    "def draw_line(pdf_file_path, page_num, top, left, length,height,color=(1,1,0), dpi=300):\n",
    "    pdf_document = fitz.open(pdf_file_path)\n",
    "    page=pdf_document[page_num]\n",
    "    # 绘制从左下，到右下的直线\n",
    "    x0=left\n",
    "    y0=top+height\n",
    "    x1=left+length\n",
    "    y1=top+height\n",
    "\n",
    "    shape=page.new_shape()\n",
    "    shape.draw_line((x0,y0),(x1,y1)) \n",
    "    shape.finish(color=color)\n",
    "    shape.commit()\n",
    "    pix = page.get_pixmap(matrix=fitz.Matrix(dpi/72, dpi/72))\n",
    "    return pix \n",
    "\n",
    "\n",
    "def pixmap_to_cv_image(pixmap):\n",
    "    # 获取图像数据\n",
    "    image_data = np.frombuffer(pixmap.samples, dtype=np.uint8)\n",
    "    \n",
    "    # 将图像数据重新调整为正确的形状\n",
    "    if pixmap.alpha:\n",
    "        shape = (pixmap.height, pixmap.width, 4)\n",
    "    else:\n",
    "        shape = (pixmap.height, pixmap.width, 3)\n",
    "    image_data = image_data.reshape(shape)\n",
    "\n",
    "    # 将图像从RGBA转换为BGR格式\n",
    "    if pixmap.alpha:\n",
    "        image_data = cv2.cvtColor(image_data, cv2.COLOR_RGBA2BGR)\n",
    "    else:\n",
    "        image_data = cv2.cvtColor(image_data, cv2.COLOR_RGB2BGR)\n",
    "\n",
    "    return image_data\n",
    "    "
   ]
  },
  {
   "cell_type": "code",
   "execution_count": 17,
   "metadata": {},
   "outputs": [],
   "source": [
    "if __name__ == '__main__':\n",
    "    pdf_file_path = 'test_pdf/test2.pdf'\n",
    "    vtt_file_path = 'test_pdf/test.srt'\n",
    "    start_page = 1\n",
    "    end_page = 1\n",
    "    time_location = get_time_location(pdf_file_path, vtt_file_path, start_page, end_page,n=0)\n",
    "    images=[]\n",
    "    timestamps=[]\n",
    "    for i, t in enumerate(time_location[:20]):\n",
    "        # print(t)\n",
    "        pix=draw_line(pdf_file_path, start_page+t['page_num'], t['top'], t['left'], t['line_length']/2*0.9,t['line_height'])\n",
    "        pix_filename=f\"test_pdf/test{i:03d}.png\"\n",
    "        pix.save(pix_filename)\n",
    "        # cv2_img=pixmap_to_cv_image(pix)\n",
    "        images.append(pix_filename)\n",
    "        timestamps.append((t['start_time']/1000,t['end_time']/1000))\n",
    "    \n"
   ]
  },
  {
   "cell_type": "code",
   "execution_count": 18,
   "metadata": {},
   "outputs": [],
   "source": [
    "def generate_video(image_files, timestamps, audio_path):\n",
    "    # 创建一个临时文本文件，其中列出了图片文件的路径以及每张图片的持续时间\n",
    "    with open('input.txt', 'w') as f:\n",
    "        for i, image_file in enumerate(image_files):\n",
    "            f.write(f\"file '{image_file}'\\n\")\n",
    "            start_time, end_time = timestamps[i]\n",
    "            duration = end_time - start_time\n",
    "            f.write(f\"duration {duration}\\n\")\n",
    "        # 重复最后一张图片以确保其持续时间正确\n",
    "        f.write(f\"file '{image_files[-1]}'\\n\")\n",
    "\n",
    "    # 使用ffmpeg命令读取文本文件并生成视频\n",
    "    output_video_without_audio='output_video_without_audio.mp4'\n",
    "    cmd = ['ffmpeg', '-f', 'concat', '-safe', '0', '-i', 'input.txt', '-vf', 'scale=ceil(iw/2)*2:ceil(ih/2)*2', '-c:v', 'h264_nvenc', '-pix_fmt', 'yuv420p', output_video_without_audio]\n",
    "    result = subprocess.run(cmd, stdout=subprocess.PIPE, stderr=subprocess.STDOUT, text=True)\n",
    "    \n",
    "    \n",
    "    # 打印捕获的输出\n",
    "    print(result.stdout)\n",
    "        # 将音频添加到生成的视频中\n",
    "    output_video_with_audio = 'output_video_with_audio.mp4'\n",
    "    command = f'ffmpeg -i {output_video_without_audio} -i {audio_path} -c:v copy -c:a aac -strict experimental -map 0:v:0 -map 1:a:0 {output_video_with_audio}'\n",
    "    subprocess.call(command, shell=True)\n",
    "    result = subprocess.run(command, stdout=subprocess.PIPE, stderr=subprocess.STDOUT, text=True)"
   ]
  },
  {
   "cell_type": "code",
   "execution_count": 19,
   "metadata": {},
   "outputs": [],
   "source": [
    "generate_video(images, timestamps, 'test_pdf/test.mp3')"
   ]
  },
  {
   "cell_type": "code",
   "execution_count": null,
   "metadata": {},
   "outputs": [],
   "source": [
    "# import imageio\n",
    "# # import imageio_ffmpeg as ffmpeg\n",
    "# # import numpy as np\n",
    "# import subprocess \n",
    "\n",
    "# def create_video_with_audio(images, timestamps, audio_path, output_video, frame_rate):\n",
    "#     # 获取图像尺寸\n",
    "#     height, width, layers = images[0].shape\n",
    "\n",
    "#     # 创建视频编码器\n",
    "#     output_params = ['-r', str(frame_rate), '-c:v', 'libx264', '-preset', 'medium', '-profile:v', 'main', '-pix_fmt', 'yuv420p']\n",
    "#     writer = imageio.get_writer(output_video, format='FFMPEG', mode='I', fps=frame_rate, codec='libx264', output_params=output_params)\n",
    "\n",
    "#     # 将图像添加到视频中\n",
    "#     for start_time, end_time in timestamps:\n",
    "#         duration = end_time - start_time\n",
    "#         total_frames = int(duration * frame_rate)\n",
    "\n",
    "#         for img in images:\n",
    "#             for _ in range(total_frames):\n",
    "#                 writer.append_data(img)\n",
    "\n",
    "#     # 关闭视频编码器\n",
    "#     writer.close()\n",
    "\n",
    "#     # 将音频添加到生成的视频中\n",
    "#     output_video_with_audio = 'output_video_with_audio.mp4'\n",
    "#     command = f'ffmpeg -i {output_video} -i {audio_path} -c:v copy -c:a aac -strict experimental -map 0:v:0 -map 1:a:0 {output_video_with_audio}'\n",
    "#     subprocess.call(command, shell=True)"
   ]
  },
  {
   "cell_type": "code",
   "execution_count": null,
   "metadata": {},
   "outputs": [],
   "source": [
    "# output_video = 'output_video_no_audio.mp4' # 输出无音频的视频文件名\n",
    "# final_video = 'output_video_with_audio.mp4' # 输出带音频的视频文件名\n",
    "# frame_rate = 30 # 视频的帧率\n",
    "# audio_path = 'test_pdf/test.mp3' # 音频文件路径\n",
    "\n",
    "# create_video_with_audio(images, timestamps, audio_path, output_video, frame_rate)\n",
    "# print(\"done\")\n"
   ]
  }
 ],
 "metadata": {
  "kernelspec": {
   "display_name": "ChatGPT",
   "language": "python",
   "name": "python3"
  },
  "language_info": {
   "codemirror_mode": {
    "name": "ipython",
    "version": 3
   },
   "file_extension": ".py",
   "mimetype": "text/x-python",
   "name": "python",
   "nbconvert_exporter": "python",
   "pygments_lexer": "ipython3",
   "version": "3.10.8"
  },
  "orig_nbformat": 4
 },
 "nbformat": 4,
 "nbformat_minor": 2
}
