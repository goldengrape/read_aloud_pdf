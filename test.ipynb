{
 "cells": [
  {
   "cell_type": "code",
   "execution_count": 1,
   "metadata": {},
   "outputs": [],
   "source": [
    "import fitz\n",
    "import pysubs2\n",
    "from bs4 import BeautifulSoup\n",
    "from sub_PDF_location import get_time_location\n",
    "from PIL import Image\n",
    "import cv2\n",
    "import numpy as np\n",
    "from moviepy.editor import VideoFileClip, AudioFileClip\n"
   ]
  },
  {
   "cell_type": "code",
   "execution_count": 2,
   "metadata": {},
   "outputs": [],
   "source": [
    "def draw_line(pdf_file_path, page_num, top, left, length,height,color=(1,1,0), dpi=300):\n",
    "    pdf_document = fitz.open(pdf_file_path)\n",
    "    page=pdf_document[page_num]\n",
    "    # 绘制从左下，到右下的直线\n",
    "    x0=left\n",
    "    y0=top+height\n",
    "    x1=left+length\n",
    "    y1=top+height\n",
    "\n",
    "    shape=page.new_shape()\n",
    "    shape.draw_line((x0,y0),(x1,y1)) \n",
    "    shape.finish(color=color)\n",
    "    shape.commit()\n",
    "    pix = page.get_pixmap(matrix=fitz.Matrix(dpi/72, dpi/72))\n",
    "    return pix \n",
    "\n",
    "\n",
    "def pixmap_to_cv_image(pixmap):\n",
    "    # 获取图像数据\n",
    "    image_data = np.frombuffer(pixmap.samples, dtype=np.uint8)\n",
    "    \n",
    "    # 将图像数据重新调整为正确的形状\n",
    "    if pixmap.alpha:\n",
    "        shape = (pixmap.height, pixmap.width, 4)\n",
    "    else:\n",
    "        shape = (pixmap.height, pixmap.width, 3)\n",
    "    image_data = image_data.reshape(shape)\n",
    "\n",
    "    # 将图像从RGBA转换为BGR格式\n",
    "    if pixmap.alpha:\n",
    "        image_data = cv2.cvtColor(image_data, cv2.COLOR_RGBA2BGR)\n",
    "    else:\n",
    "        image_data = cv2.cvtColor(image_data, cv2.COLOR_RGB2BGR)\n",
    "\n",
    "    return image_data\n",
    "    "
   ]
  },
  {
   "cell_type": "code",
   "execution_count": 3,
   "metadata": {},
   "outputs": [],
   "source": [
    "if __name__ == '__main__':\n",
    "    pdf_file_path = 'test_pdf/test2.pdf'\n",
    "    vtt_file_path = 'test_pdf/test.vtt'\n",
    "    start_page = 1\n",
    "    end_page = 2\n",
    "    time_location = get_time_location(pdf_file_path, vtt_file_path, start_page, end_page)\n",
    "    images=[]\n",
    "    timestamps=[]\n",
    "    for i, t in enumerate(time_location[:20]):\n",
    "        # print(t)\n",
    "        pix=draw_line(pdf_file_path, start_page+t['page_num'], t['top'], t['left'], t['line_length']/2*0.9,t['line_height'])\n",
    "        # pix.save(f\"test_pdf/test{i:03d}.png\")\n",
    "        cv2_img=pixmap_to_cv_image(pix)\n",
    "        images.append(cv2_img)\n",
    "        timestamps.append((t['start_time']/1000,t['end_time']/1000))\n",
    "    \n"
   ]
  },
  {
   "cell_type": "code",
   "execution_count": 4,
   "metadata": {},
   "outputs": [
    {
     "name": "stdout",
     "output_type": "stream",
     "text": [
      "Moviepy - Building video output_video_with_audio.mp4.\n",
      "MoviePy - Writing audio in output_video_with_audioTEMP_MPY_wvf_snd.mp3\n"
     ]
    },
    {
     "name": "stderr",
     "output_type": "stream",
     "text": [
      "                                                                      \r"
     ]
    },
    {
     "name": "stdout",
     "output_type": "stream",
     "text": [
      "MoviePy - Done.\n",
      "Moviepy - Writing video output_video_with_audio.mp4\n",
      "\n"
     ]
    },
    {
     "name": "stderr",
     "output_type": "stream",
     "text": [
      "                                                                \r"
     ]
    },
    {
     "name": "stdout",
     "output_type": "stream",
     "text": [
      "Moviepy - Done !\n",
      "Moviepy - video ready output_video_with_audio.mp4\n"
     ]
    }
   ],
   "source": [
    "def create_video_from_images(images, timestamps, output_video, frame_rate):\n",
    "    # 获取图像尺寸\n",
    "    height, width, layers = images[0].shape\n",
    "\n",
    "    # 创建VideoWriter对象，用于生成视频文件\n",
    "    fourcc = cv2.VideoWriter_fourcc(*'mp4v') # 使用mp4格式\n",
    "    video = cv2.VideoWriter(output_video, fourcc, frame_rate, (width, height))\n",
    "\n",
    "    # 将图像添加到视频中\n",
    "    for start_time, end_time in timestamps:\n",
    "        duration = end_time - start_time\n",
    "        total_frames = int(duration * frame_rate)\n",
    "\n",
    "        for img in images:\n",
    "            for _ in range(total_frames):\n",
    "                video.write(img)\n",
    "\n",
    "    # 释放VideoWriter对象并关闭窗口\n",
    "    video.release()\n",
    "    cv2.destroyAllWindows()\n",
    "\n",
    "def add_audio_to_video(video_path, audio_path, output_path):\n",
    "    video = VideoFileClip(video_path)\n",
    "    audio = AudioFileClip(audio_path)\n",
    "    video_with_audio = video.set_audio(audio)\n",
    "    video_with_audio.write_videofile(output_path)\n",
    "\n",
    "# # 示例使用\n",
    "# images = [cv2.imread('image1.jpg'), cv2.imread('image2.jpg'), cv2.imread('image3.jpg')] # 内存中存储的图像列表\n",
    "# timestamps = [(100, 150), (152, 160), (165, 180)] # 时间戳列表，单位为秒\n",
    "output_video = 'output_video_no_audio.mp4' # 输出无音频的视频文件名\n",
    "final_video = 'output_video_with_audio.mp4' # 输出带音频的视频文件名\n",
    "frame_rate = 30 # 视频的帧率\n",
    "audio_path = 'test_pdf/test.mp3' # 音频文件路径\n",
    "\n",
    "create_video_from_images(images, timestamps, output_video, frame_rate)\n",
    "add_audio_to_video(output_video, audio_path, final_video)\n"
   ]
  }
 ],
 "metadata": {
  "kernelspec": {
   "display_name": "ChatGPT",
   "language": "python",
   "name": "python3"
  },
  "language_info": {
   "codemirror_mode": {
    "name": "ipython",
    "version": 3
   },
   "file_extension": ".py",
   "mimetype": "text/x-python",
   "name": "python",
   "nbconvert_exporter": "python",
   "pygments_lexer": "ipython3",
   "version": "3.10.8"
  },
  "orig_nbformat": 4
 },
 "nbformat": 4,
 "nbformat_minor": 2
}
